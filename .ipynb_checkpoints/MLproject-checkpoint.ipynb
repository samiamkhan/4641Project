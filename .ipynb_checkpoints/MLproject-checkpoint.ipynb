{
 "cells": [
  {
   "cell_type": "code",
   "execution_count": 3,
   "metadata": {},
   "outputs": [
    {
     "name": "stdout",
     "output_type": "stream",
     "text": [
      "54\n"
     ]
    }
   ],
   "source": [
    "test = 54\n",
    "print(test)"
   ]
  },
  {
   "cell_type": "markdown",
   "metadata": {},
   "source": [
    "below is neccessary imports\n"
   ]
  },
  {
   "cell_type": "code",
   "execution_count": 34,
   "metadata": {},
   "outputs": [],
   "source": [
    "import numpy as np\n",
    "import pandas as pd\n",
    "import sklearn\n",
    "import chess"
   ]
  },
  {
   "cell_type": "markdown",
   "metadata": {},
   "source": [
    "below is code for main"
   ]
  },
  {
   "cell_type": "code",
   "execution_count": 5,
   "metadata": {},
   "outputs": [],
   "source": [
    "def dataLoader(x):\n",
    "    data = pd.read_csv(x)\n",
    "    return data\n"
   ]
  },
  {
   "cell_type": "markdown",
   "metadata": {},
   "source": [
    "below is main"
   ]
  },
  {
   "cell_type": "code",
   "execution_count": 39,
   "metadata": {},
   "outputs": [
    {
     "name": "stdout",
     "output_type": "stream",
     "text": [
      "One keys:  214\n",
      "Two keys:  2671\n",
      "Three keys:  7059\n",
      "['d4', 'd5', 'c4', 'c6', 'cxd5', 'e6']\n",
      "['d4', 'd5', 'c4', 'c6', 'cxd5', 'e6', 'dxe6', 'fxe6', 'Nf3', 'Bb4+']\n",
      "['d4', 'd5', 'c4', 'c6', 'cxd5', 'e6', 'dxe6', 'fxe6', 'Nf3', 'Bb4+', 'Nc3', 'Ba5', 'Bf4']\n",
      "      victory_status winner  white_rating  black_rating  \\\n",
      "1             resign  black          1322          1261   \n",
      "2               mate  white          1496          1500   \n",
      "3               mate  white          1439          1454   \n",
      "4               mate  white          1523          1469   \n",
      "6             resign  white          1520          1423   \n",
      "...              ...    ...           ...           ...   \n",
      "20053         resign  white          1691          1220   \n",
      "20054           mate  black          1233          1196   \n",
      "20055           mate  white          1219          1286   \n",
      "20056         resign  white          1360          1227   \n",
      "20057           mate  black          1235          1339   \n",
      "\n",
      "                                                   moves opening_eco  \\\n",
      "1      d4 Nc6 e4 e5 f4 f6 dxe5 fxe5 fxe5 Nxe5 Qd4 Nc6...         B00   \n",
      "2      e4 e5 d3 d6 Be3 c6 Be2 b5 Nd2 a5 a4 c5 axb5 Nc...         C20   \n",
      "3      d4 d5 Nf3 Bf5 Nc3 Nf6 Bf4 Ng4 e3 Nc6 Be2 Qd7 O...         D02   \n",
      "4      e4 e5 Nf3 d6 d4 Nc6 d5 Nb4 a3 Na6 Nc3 Be7 b4 N...         C41   \n",
      "6      d4 d5 e4 dxe4 Nc3 Nf6 f3 exf3 Nxf3 Nc6 Bb5 a6 ...         D00   \n",
      "...                                                  ...         ...   \n",
      "20053  d4 f5 e3 e6 Nf3 Nf6 Nc3 b6 Be2 Bb7 O-O Be7 Ne5...         A80   \n",
      "20054  d4 d6 Bf4 e5 Bg3 Nf6 e3 exd4 exd4 d5 c3 Bd6 Bd...         A41   \n",
      "20055  d4 d5 Bf4 Nc6 e3 Nf6 c3 e6 Nf3 Be7 Bd3 O-O Nbd...         D00   \n",
      "20056  e4 d6 d4 Nf6 e5 dxe5 dxe5 Qxd1+ Kxd1 Nd5 c4 Nb...         B07   \n",
      "20057  d4 d5 Bf4 Na6 e3 e6 c3 Nf6 Nf3 Bd7 Nbd2 b5 Bd3...         D00   \n",
      "\n",
      "                                     opening_name  opening_ply  \n",
      "1          Nimzowitsch Defense: Kennedy Variation            4  \n",
      "2           King's Pawn Game: Leonardis Variation            3  \n",
      "3          Queen's Pawn Game: Zukertort Variation            3  \n",
      "4                                Philidor Defense            5  \n",
      "6      Blackmar-Diemer Gambit: Pietrowsky Defense           10  \n",
      "...                                           ...          ...  \n",
      "20053                               Dutch Defense            2  \n",
      "20054                                Queen's Pawn            2  \n",
      "20055             Queen's Pawn Game: Mason Attack            3  \n",
      "20056                                Pirc Defense            4  \n",
      "20057             Queen's Pawn Game: Mason Attack            3  \n",
      "\n",
      "[17472 rows x 8 columns]\n"
     ]
    }
   ],
   "source": [
    "f = \"games.csv\"\n",
    "data = dataLoader(\"games.csv\")\n",
    "header = data.head\n",
    "df = pd.DataFrame(data)\n",
    "\n",
    "slctCol =  df[['victory_status', 'winner', 'white_rating', 'black_rating', 'moves', 'opening_eco','opening_name', 'opening_ply']]\n",
    "slctCol = slctCol[(slctCol['victory_status'] == 'mate') | (slctCol['victory_status'] == 'resign')]\n",
    "#toNp = np.genfromtxt (f, delimiter=\",\")\n",
    "\n",
    "npData = data.to_numpy() #Convert to numpy NDArray\n",
    "\n",
    "#print(npData.shape)\n",
    "#print(type(npData))\n",
    "\n",
    "trainingData = npData[0:(int)(npData.shape[0] * 0.8)]\n",
    "testingData = npData[len(trainingData): len(npData)] # Don't touch this until we're testing our performance\n",
    "\n",
    "#print(\"Training Shape: \", trainingData.shape)\n",
    "#print(\"Testing Shape: \", testingData.shape)\n",
    "\n",
    "'''\n",
    "These are some notes about Standard Chess Notation for referencing moves. The board is 8x8, with the bottom left corner\n",
    "being A1 and the top right being H8. The top left corner would be A8 and the bottom right corner would be H1. Using the\n",
    "Python chess library to interpret moves to prevent manual checking and parsing: https://pypi.org/project/python-chess/\n",
    "'''\n",
    "\n",
    "#print(data.iloc[3]) # show third rowrow\n",
    "\n",
    "firstOneDict = {}\n",
    "firstTwoDict = {}\n",
    "firstThreeDict = {}\n",
    "\n",
    "for sampleIndex in range(len(trainingData)):\n",
    "    moves = npData[sampleIndex][12] # 12 is the index for the moves\n",
    "    movesList = moves.split()\n",
    "\n",
    "    firstOne = \" \".join(movesList[0:2]) # Moves 0 for each player in space-separated string\n",
    "    firstTwo = \" \".join(movesList[0:4]) # Moves 0, 1 for each player in space-separated string\n",
    "    firstThree = \" \".join(movesList[0:6]) # Moves 0, 1, 2 for each player in space-separated string\n",
    "\n",
    "    if firstOne in firstOneDict.keys():\n",
    "        firstOneDict[firstOne].append(sampleIndex)\n",
    "    else:\n",
    "        firstOneDict[firstOne] = [sampleIndex]\n",
    "    \n",
    "    if firstTwo in firstTwoDict.keys():\n",
    "        firstTwoDict[firstTwo].append(sampleIndex)\n",
    "    else:\n",
    "        firstTwoDict[firstTwo] = [sampleIndex]\n",
    "\n",
    "    if firstThree in firstThreeDict.keys():\n",
    "        firstThreeDict[firstThree].append(sampleIndex)\n",
    "    else:\n",
    "        firstThreeDict[firstThree] = [sampleIndex]\n",
    "\n",
    "\n",
    "print(\"One keys: \", len(firstOneDict.keys()))\n",
    "print(\"Two keys: \", len(firstTwoDict.keys()))\n",
    "print(\"Three keys: \", len(firstThreeDict.keys()))\n",
    "\n",
    "#moves = npData[0][12] # A string with moves separated by spaces\n",
    "#movesList = moves.split()\n",
    "\n",
    "#firstThree = movesList[0:6] # Moves 0, 1, 2 for each player\n",
    "#firstFive = movesList[0:10] # Moves 0, 1, 2, 3, 4 for each player\n",
    "#firstSeven = movesList[0:14] # Moves 0, 1, 2, 3, 4, 5, 6 for each player\n",
    "\n",
    "#print(firstThree)\n",
    "#print(firstFive)\n",
    "#print(firstSeven)\n",
    "\n",
    "#print(\"Moves: \", moves)\n",
    "#print(\"Moves shape: \", moves.shape)\n",
    "#print(npData[3][12])\n",
    "\n",
    "print(slctCol)# show chosen colums with victory status mate or resign\n",
    "\n",
    "#print(type(header))\n",
    "#print(df.shape)\n",
    "#print(df.info)\n",
    "#print(toNP)"
   ]
  },
  {
   "cell_type": "code",
   "execution_count": null,
   "metadata": {},
   "outputs": [],
   "source": []
  },
  {
   "cell_type": "code",
   "execution_count": null,
   "metadata": {},
   "outputs": [],
   "source": []
  },
  {
   "cell_type": "code",
   "execution_count": null,
   "metadata": {},
   "outputs": [],
   "source": []
  }
 ],
 "metadata": {
  "kernelspec": {
   "display_name": "Python 3",
   "language": "python",
   "name": "python3"
  },
  "language_info": {
   "codemirror_mode": {
    "name": "ipython",
    "version": 3
   },
   "file_extension": ".py",
   "mimetype": "text/x-python",
   "name": "python",
   "nbconvert_exporter": "python",
   "pygments_lexer": "ipython3",
   "version": "3.6.2"
  }
 },
 "nbformat": 4,
 "nbformat_minor": 2
}
